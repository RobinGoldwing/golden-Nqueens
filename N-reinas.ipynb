{
 "cells": [
  {
   "cell_type": "code",
   "execution_count": 2,
   "metadata": {},
   "outputs": [],
   "source": [
    "import numpy as np"
   ]
  },
  {
   "cell_type": "code",
   "execution_count": 4,
   "metadata": {},
   "outputs": [],
   "source": [
    "celdas = 4\n",
    "reinas = 3"
   ]
  },
  {
   "cell_type": "code",
   "execution_count": 24,
   "metadata": {},
   "outputs": [
    {
     "name": "stdout",
     "output_type": "stream",
     "text": [
      "[[0 0 0 0]\n",
      " [0 0 0 0]\n",
      " [0 0 0 0]\n",
      " [0 0 0 0]]\n",
      "\n",
      "[[1 0 0 0]\n",
      " [0 1 0 0]\n",
      " [0 0 1 0]\n",
      " [0 0 0 1]]\n",
      "\n",
      "[[1 0 0 0]\n",
      " [0 1 0 0]\n",
      " [0 0 1 0]\n",
      " [0 0 0 1]]\n",
      "\n",
      "[[0 0 0 1]\n",
      " [0 0 1 0]\n",
      " [0 1 0 0]\n",
      " [1 0 0 0]]\n",
      "\n"
     ]
    }
   ],
   "source": [
    "\n",
    "ini = np.zeros((celdas,celdas), dtype=int)\n",
    "print(ini)\n",
    "print()\n",
    "\n",
    "# numpy.eye(N, M=None, k=0, dtype=<class 'float'>, order='C', *, like=None)\n",
    "x = np.eye(celdas, dtype=int)\n",
    "print(x)\n",
    "print()\n",
    "y = np.eye(celdas, k= 0,dtype=int)\n",
    "print(y)\n",
    "print()\n",
    "z = np.flip(y,0)\n",
    "print(z)\n",
    "print()"
   ]
  },
  {
   "cell_type": "code",
   "execution_count": null,
   "metadata": {},
   "outputs": [],
   "source": [
    "np.trace(c)\n",
    "3.0\n",
    "a = np.arange(8).reshape((2,2,2))\n",
    "np.trace(a)\n",
    "array([6, 8])\n",
    "a = np.arange(24).reshape((2,2,2,3))\n",
    "np.trace(a).shape\n",
    "(2, 3)"
   ]
  }
 ],
 "metadata": {
  "kernelspec": {
   "display_name": "base",
   "language": "python",
   "name": "python3"
  },
  "language_info": {
   "codemirror_mode": {
    "name": "ipython",
    "version": 3
   },
   "file_extension": ".py",
   "mimetype": "text/x-python",
   "name": "python",
   "nbconvert_exporter": "python",
   "pygments_lexer": "ipython3",
   "version": "3.9.13"
  },
  "orig_nbformat": 4,
  "vscode": {
   "interpreter": {
    "hash": "cc1332a8f7e0451bc5f848be8d720f7248ccdc90765305aee5ab7d17e4c29ab1"
   }
  }
 },
 "nbformat": 4,
 "nbformat_minor": 2
}
