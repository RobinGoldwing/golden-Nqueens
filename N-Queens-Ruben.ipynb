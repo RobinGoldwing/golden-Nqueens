{
 "cells": [
  {
   "attachments": {},
   "cell_type": "markdown",
   "metadata": {},
   "source": [
    "### Alumno : Rubén Álvarez Mosquera\n",
    "---"
   ]
  },
  {
   "attachments": {},
   "cell_type": "markdown",
   "metadata": {},
   "source": [
    "# N Queens\n",
    "---\n",
    "---"
   ]
  },
  {
   "attachments": {},
   "cell_type": "markdown",
   "metadata": {},
   "source": [
    "#### Importamos librerías\n",
    "---"
   ]
  },
  {
   "cell_type": "code",
   "execution_count": 13,
   "metadata": {},
   "outputs": [],
   "source": [
    "# Library import \n",
    "###################################################\n",
    "\n",
    "import os, sys, copy, time"
   ]
  },
  {
   "attachments": {},
   "cell_type": "markdown",
   "metadata": {},
   "source": [
    "#### Declaramos variables\n",
    "---"
   ]
  },
  {
   "cell_type": "code",
   "execution_count": 14,
   "metadata": {},
   "outputs": [],
   "source": [
    "# Declaracion variables\n",
    "###################################################\n",
    "version = 'v0.3'\n",
    "\n",
    "limpia_pantalla = 'clear' if os.name == 'posix' else 'CLS'\n",
    "celdas = 0\n",
    "reinas = 0\n",
    "estado_inicial = []\n",
    "estado_actual = []\n",
    "cerrados=[]\n",
    "iteracion = 0\n",
    "soluciones = []"
   ]
  },
  {
   "attachments": {},
   "cell_type": "markdown",
   "metadata": {},
   "source": [
    "#### Declaramos las funciones\n",
    "---"
   ]
  },
  {
   "attachments": {},
   "cell_type": "markdown",
   "metadata": {},
   "source": [
    "##### Función : Reset:\n",
    "- Esta función, realiza un reseteo de las variables usadas en el programa\n",
    "\n",
    "\n"
   ]
  },
  {
   "cell_type": "code",
   "execution_count": 15,
   "metadata": {},
   "outputs": [],
   "source": [
    "def Reset():\n",
    "    global cerrados, celdas, reinas, estado_actual,estado_inicial, iteracion, speed, soluciones #,tablero\n",
    "\n",
    "    celdas = 0\n",
    "    reinas = 0\n",
    "    estado_inicial = []\n",
    "    estado_actual = []\n",
    "    iteracion = 0\n",
    "    speed = 0\n",
    "    cerrados=[]\n",
    "    soluciones = []"
   ]
  },
  {
   "attachments": {},
   "cell_type": "markdown",
   "metadata": {},
   "source": [
    "##### Función : Limpia Pantalla:\n",
    "- Esta función realizará una limpieza de la pantalla\n"
   ]
  },
  {
   "cell_type": "code",
   "execution_count": 16,
   "metadata": {},
   "outputs": [],
   "source": [
    "def Limpia_pantalla():\n",
    "    os.system(limpia_pantalla)"
   ]
  },
  {
   "attachments": {},
   "cell_type": "markdown",
   "metadata": {},
   "source": [
    "##### Función : Petición de variables:\n",
    "- Esta función realizará una petición de las variable que necesita el programa, en este caso:\n",
    "   - nº de celdas de ancho del tablero\n",
    "   - nº de Reinas\n",
    "   - Velocidad de muestreo\n"
   ]
  },
  {
   "cell_type": "code",
   "execution_count": 27,
   "metadata": {},
   "outputs": [],
   "source": [
    "def Peticion_variables():\n",
    "    global celdas, reinas, estado_inicial, estado_actual, speed\n",
    "\n",
    "    Limpia_pantalla()\n",
    "    print('\\n====================')\n",
    "    print('  N reinas   ',version)\n",
    "    print('====================\\n')\n",
    "\n",
    "    print('Bienvenidos al juego de las N reinas \\n')\n",
    "\n",
    "    while celdas == 0 or not celdas.isnumeric():\n",
    "        print('Tamaño del tablero, NxN celdas : (Recomendado no más de 5): ')\n",
    "        celdas = input()\n",
    "    celdas = int(celdas)\n",
    "    while reinas == 0 or not reinas.isnumeric():\n",
    "        print('Introduce el nº de reinas (Recomendado no más de 5): ')\n",
    "        reinas = input()\n",
    "    reinas = int(reinas)\n",
    "\n",
    "    while speed == 0 or not speed.isnumeric():\n",
    "        print('Introduce la velocidad (recomendado de 1 a 30+) : ', end='')\n",
    "        speed = input()\n",
    "    speed = float(speed)\n",
    "\n",
    "    for x in range(celdas):\n",
    "        estado_inicial.append([])\n",
    "        for y in range(celdas):\n",
    "            estado_inicial[x].append(0)\n",
    "\n",
    "    estado_actual = copy.deepcopy(estado_inicial)"
   ]
  },
  {
   "attachments": {},
   "cell_type": "markdown",
   "metadata": {},
   "source": [
    "##### Función : Imprime Estado:\n",
    "- Esta función imprime el resultado de cada uno de los movimientos que realiza el programa para conseguir la jugada adecuada\n",
    "\n"
   ]
  },
  {
   "cell_type": "code",
   "execution_count": 28,
   "metadata": {},
   "outputs": [],
   "source": [
    "def Imprime_estado(state):\n",
    "    print('\\n====================')\n",
    "    print('  N reinas   ',version)\n",
    "    print('====================\\n')\n",
    "    print('Celdas : ',celdas,' x ',celdas)\n",
    "    print('Reinas: ',reinas)\n",
    "    print('\\n====================\\n')\n",
    "    for x in range(len(state)):\n",
    "        for y in range(len(state[x])):\n",
    "            print(state[x][y],end=' ')\n",
    "        print()\n",
    "    print()\n",
    "    print('Iteraciones : ',iteracion)\n",
    "    print()\n",
    "    print('Soluciones encontradas : ')\n",
    "    if soluciones:\n",
    "         for x in range(len(soluciones)):\n",
    "            print(x+1,' : ',soluciones[x])\n",
    "    time.sleep(1/speed)\n"
   ]
  },
  {
   "attachments": {},
   "cell_type": "markdown",
   "metadata": {},
   "source": [
    "##### Funciones de comprobación de estado:\n",
    "- En estas funciones, el programa realiza una comprobación, para ver si las filas, columnas y diagonales(izquierda/derecha) del estado, cumplen las condiciones para ser un estado válido\n",
    "\n"
   ]
  },
  {
   "cell_type": "code",
   "execution_count": 29,
   "metadata": {},
   "outputs": [],
   "source": [
    "def comprueba_filas(state):\n",
    "    for x in range(len(state)):\n",
    "        count = 0\n",
    "        for y in range(len(state[x])):\n",
    "            count += state[x][y]\n",
    "        if count > 1: return False\n",
    "    return True\n",
    "\n",
    "def comprueba_columnas(state):\n",
    "    for x in range(len(state)):\n",
    "        count = 0\n",
    "        for y in range(len(state[x])):\n",
    "            count += state[y][x]\n",
    "        if count > 1: return False\n",
    "    return True\n",
    "\n",
    "def comprueba_diagonales_der(state):    \n",
    "    for x in range(len(state)):\n",
    "        for y in range(len(state)):\n",
    "            count=0\n",
    "            for z in range(len(state)):\n",
    "                try:\n",
    "                    count += state[z+x][z+y]\n",
    "                except:\n",
    "                    pass\n",
    "            if count > 1: return False\n",
    "    return True\n",
    "\n",
    "def inversa(state):\n",
    "    inversa = copy.deepcopy(state)\n",
    "    for x in range(len(state)):\n",
    "        for y in range(len(state[x])):\n",
    "            inversa[x][y] = state[x][-y-1]\n",
    "    return inversa\n",
    "\n",
    "def comprueba_diagonales_izq(state):\n",
    "    if comprueba_diagonales_der(inversa(state)): return True\n",
    "    else:                                        return False\n",
    "\n",
    "def Comprueba_estado(state):\n",
    "    if comprueba_filas(state) and comprueba_columnas(state) and comprueba_diagonales_der(state) and comprueba_diagonales_izq(state):\n",
    "        return True\n",
    "    else:\n",
    "        return False"
   ]
  },
  {
   "attachments": {},
   "cell_type": "markdown",
   "metadata": {},
   "source": [
    "##### Función : Cuenta Reinas:\n",
    "- Realiza un conteo de las reinas totales del estado, devolviendo un entero con el número de ellas"
   ]
  },
  {
   "cell_type": "code",
   "execution_count": 30,
   "metadata": {},
   "outputs": [],
   "source": [
    "def Cuenta_reinas(state):\n",
    "    count = 0\n",
    "    for x in range(len(state)):\n",
    "        for y in range(len(state)):\n",
    "            count += state[x][y]\n",
    "    return count"
   ]
  },
  {
   "attachments": {},
   "cell_type": "markdown",
   "metadata": {},
   "source": [
    "##### Función : Estados:\n",
    "- Realiza una comprobación si existe una reina en cada una de las celdas, y si es así, pasa al la siguiente celda, y si está libre, coloca una reina y devuelve el estado."
   ]
  },
  {
   "cell_type": "code",
   "execution_count": 31,
   "metadata": {},
   "outputs": [],
   "source": [
    "def Estados(s):\n",
    "    for x in range(len(s)):\n",
    "        for y in range(len(s)):\n",
    "            ns=copy.deepcopy(s)\n",
    "            if ns[x][y] == 0:\n",
    "                ns[x][y] = 1\n",
    "                yield ns\n"
   ]
  },
  {
   "attachments": {},
   "cell_type": "markdown",
   "metadata": {},
   "source": [
    "##### Función :  Profundidad:\n",
    "- En esta función realiza una comprobación del estado, devolviendo el estado actual, si se cumple que el número de reinas es el número objetivo, y si no, comprueba de cada uno de los estados siguientes posibles dados por la función \"Compueba_estado()\" si es un estado válido y no está en la lista de cerrados, agregándolo a la lista de cerrados en ese caso, y usando recursividad, para volver a realizar la misma comprobación.\n",
    "\n"
   ]
  },
  {
   "cell_type": "code",
   "execution_count": 32,
   "metadata": {},
   "outputs": [],
   "source": [
    "def Profundidad(actual, path=[]):\n",
    "    global iteracion\n",
    "    if Cuenta_reinas(actual) == reinas:\n",
    "        return [actual]\n",
    "    else: \n",
    "        for ns in Estados(actual):\n",
    "            iteracion += 1\n",
    "            Limpia_pantalla()\n",
    "            Imprime_estado(ns)\n",
    "            if Comprueba_estado(ns) and ns not in cerrados:\n",
    "                cerrados.append(ns)\n",
    "                r=Profundidad(ns,cerrados)\n",
    "                if r:\n",
    "                    r.insert(0,actual)\n",
    "                    return r\n",
    "        return []"
   ]
  },
  {
   "attachments": {},
   "cell_type": "markdown",
   "metadata": {},
   "source": [
    "##### Función : Ejecución total:\n",
    "- Esta función la usamos para ejecutar el grueso del programa, donde realizaremos:\n",
    "   - Un reset de las variables\n",
    "   - Petición de las variables\n",
    "   - Intentaremos el código, evitando (cuando se acaben los índices de la búsqueda) que arroje un error de \"IndexError\", por haberllegado al final de los indices posibles, encontrando así el final del programa, y muestre la solución final o bien diciendo que no existe solución\n",
    "\n"
   ]
  },
  {
   "cell_type": "code",
   "execution_count": 33,
   "metadata": {},
   "outputs": [],
   "source": [
    "def Ejecucion_total():\n",
    "    global estado_actual,iteracion\n",
    "    try:\n",
    "        Reset()\n",
    "        Peticion_variables()\n",
    "        while True:\n",
    "            solucion = Profundidad(estado_inicial)\n",
    "            soluciones.append(solucion[-1])\n",
    "            solucion = []\n",
    "            print('Conseguido!!\\n')\n",
    "    except IndexError:\n",
    "        print('Ha llegado al final.\\n\\nEl programa ha encontrado ',len(soluciones),'soluciones\\n\\nGracias por usar N-Reinas!!\\n')\n"
   ]
  },
  {
   "attachments": {},
   "cell_type": "markdown",
   "metadata": {},
   "source": [
    "##### Programa principal:\n",
    "---\n",
    "---\n",
    "\n"
   ]
  },
  {
   "attachments": {},
   "cell_type": "markdown",
   "metadata": {},
   "source": [
    "En este caso, como se puede observar, únicamente limpiamos la pantalla y lanzamos la función principal \"Ejecucion_total()\"\n",
    "\n",
    "##### RECUERDE:\n",
    "\n",
    "- Esta función realizará una petición de las variable que necesita el programa, en este caso:\n",
    "   - nº de celdas de ancho del tablero\n",
    "   - nº de Reinas\n",
    "   - Velocidad de muestreo\n",
    "\n",
    "DISCLAIMER : Ciertas peticiones de variables mediante el método \"input\" aparecen erroneamente, así como otras salidas de pantalla que exceden el espacio que reserva el notebook para su muestreo.\n",
    "\n",
    "Disculpen las molestias\n",
    "\n",
    "---"
   ]
  },
  {
   "cell_type": "code",
   "execution_count": null,
   "metadata": {},
   "outputs": [],
   "source": [
    "Ejecucion_total()"
   ]
  },
  {
   "cell_type": "code",
   "execution_count": null,
   "metadata": {},
   "outputs": [],
   "source": []
  }
 ],
 "metadata": {
  "kernelspec": {
   "display_name": "BDA",
   "language": "python",
   "name": "python3"
  },
  "language_info": {
   "codemirror_mode": {
    "name": "ipython",
    "version": 3
   },
   "file_extension": ".py",
   "mimetype": "text/x-python",
   "name": "python",
   "nbconvert_exporter": "python",
   "pygments_lexer": "ipython3",
   "version": "3.9.13"
  },
  "orig_nbformat": 4,
  "vscode": {
   "interpreter": {
    "hash": "f3b94f4d74fa7e54894a3ffb4da92ea947a3c0582cd50ec8d6f9301d7a4c6657"
   }
  }
 },
 "nbformat": 4,
 "nbformat_minor": 2
}
